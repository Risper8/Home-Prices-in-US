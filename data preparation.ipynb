{
 "cells": [
  {
   "cell_type": "markdown",
   "metadata": {},
   "source": [
    "## Data Preparation"
   ]
  },
  {
   "cell_type": "code",
   "execution_count": 219,
   "metadata": {},
   "outputs": [],
   "source": [
    "import pandas as pd\n",
    "import numpy as np"
   ]
  },
  {
   "cell_type": "code",
   "execution_count": 220,
   "metadata": {},
   "outputs": [
    {
     "name": "stdout",
     "output_type": "stream",
     "text": [
      "         DATE  Home Price  Year  Month\n",
      "0  2002-01-01     117.144  2002      1\n",
      "1  2002-02-01     117.844  2002      2\n",
      "2  2002-03-01     118.687  2002      3\n",
      "3  2002-04-01     119.610  2002      4\n",
      "4  2002-05-01     120.724  2002      5\n"
     ]
    },
    {
     "data": {
      "text/plain": [
       "(241, 4)"
      ]
     },
     "execution_count": 220,
     "metadata": {},
     "output_type": "execute_result"
    }
   ],
   "source": [
    "## Reading CASE-SHILLER Home Price Index dataset\n",
    "df_homeprice = pd.read_csv(r\"C:\\Users\\user\\Downloads\\CSUSHPISA.csv\")\n",
    "\n",
    "# Rename the column CSUSHPISA  to home price\n",
    "df_homeprice.rename(columns={'CSUSHPISA': 'Home Price'}, inplace=True)\n",
    "\n",
    "# Creating \"Year\" and \"Month\" columns\n",
    "df_homeprice[\"Year\"] = pd.DatetimeIndex(df_homeprice[\"DATE\"]).year\n",
    "df_homeprice[\"Month\"] = pd.DatetimeIndex(df_homeprice[\"DATE\"]).month\n",
    "\n",
    "# view the data\n",
    "print(df_homeprice.head())\n",
    "\n",
    "# check the number of rows and columns\n",
    "df_homeprice.shape\n"
   ]
  },
  {
   "cell_type": "code",
   "execution_count": 221,
   "metadata": {},
   "outputs": [
    {
     "name": "stdout",
     "output_type": "stream",
     "text": [
      "         DATE  Unemp Rate\n",
      "0  2002-01-01         5.7\n",
      "1  2002-02-01         5.7\n",
      "2  2002-03-01         5.7\n",
      "3  2002-04-01         5.9\n",
      "4  2002-05-01         5.8\n"
     ]
    },
    {
     "data": {
      "text/plain": [
       "(241, 2)"
      ]
     },
     "execution_count": 221,
     "metadata": {},
     "output_type": "execute_result"
    }
   ],
   "source": [
    "## Reading Unemployment Rate dataset\n",
    "df_unemp = pd.read_csv(r\"C:\\Users\\user\\Downloads\\UNRATE.csv\")\n",
    "\n",
    "# Rename the column UNRATE to Unemp Rate\n",
    "df_unemp.rename(columns={'UNRATE': 'Unemp Rate'}, inplace=True)\n",
    "\n",
    "# view the data\n",
    "print(df_unemp.head())\n",
    "\n",
    "# check the number of rows and columns\n",
    "df_unemp.shape"
   ]
  },
  {
   "cell_type": "code",
   "execution_count": 222,
   "metadata": {},
   "outputs": [
    {
     "name": "stdout",
     "output_type": "stream",
     "text": [
      "         DATE   Emp Rate\n",
      "0  2002-01-01  72.032165\n",
      "1  2002-02-01  72.338607\n",
      "2  2002-03-01  72.156168\n",
      "3  2002-04-01  71.903152\n",
      "4  2002-05-01  72.019947\n"
     ]
    },
    {
     "data": {
      "text/plain": [
       "(241, 2)"
      ]
     },
     "execution_count": 222,
     "metadata": {},
     "output_type": "execute_result"
    }
   ],
   "source": [
    "## Reading Employment Rate: Aged 15-64: All Persons for United States dataset\n",
    "df_emp = pd.read_csv(r\"C:\\Users\\user\\Downloads\\LREM64TTUSM156S.csv\")\n",
    "\n",
    "# Rename the column LREM64TTUSM156S to Emp Rate\n",
    "df_emp.rename(columns={'LREM64TTUSM156S': 'Emp Rate'}, inplace=True)\n",
    "\n",
    "# view the data\n",
    "print(df_emp.head())\n",
    "\n",
    "# check the number of rows and columns\n",
    "df_emp.shape"
   ]
  },
  {
   "cell_type": "code",
   "execution_count": 223,
   "metadata": {},
   "outputs": [
    {
     "name": "stdout",
     "output_type": "stream",
     "text": [
      "         DATE  Real Gdp\n",
      "0  2002-01-01  50260.25\n",
      "1  2003-01-01  51189.00\n",
      "2  2004-01-01  52681.25\n",
      "3  2005-01-01  54014.25\n",
      "4  2006-01-01  54993.50\n"
     ]
    },
    {
     "data": {
      "text/plain": [
       "(21, 2)"
      ]
     },
     "execution_count": 223,
     "metadata": {},
     "output_type": "execute_result"
    }
   ],
   "source": [
    "## Reading  Real gross domestic product per capita dataset\n",
    "df_gdp = pd.read_csv(r\"C:\\Users\\user\\Downloads\\A939RX0Q048SBEA.csv\")\n",
    "\n",
    "# Rename the column A939RX0Q048SBEA to Real Gdp\n",
    "df_gdp.rename(columns={'A939RX0Q048SBEA': 'Real Gdp'}, inplace=True)\n",
    "\n",
    "# view the data\n",
    "print(df_gdp.head())\n",
    "\n",
    "# check the number of rows and columns\n",
    "df_gdp.shape"
   ]
  },
  {
   "cell_type": "code",
   "execution_count": 224,
   "metadata": {},
   "outputs": [
    {
     "name": "stdout",
     "output_type": "stream",
     "text": [
      "         DATE  Interest Rates\n",
      "0  2002-01-01            1.73\n",
      "1  2002-02-01            1.74\n",
      "2  2002-03-01            1.73\n",
      "3  2002-04-01            1.75\n",
      "4  2002-05-01            1.75\n"
     ]
    },
    {
     "data": {
      "text/plain": [
       "(241, 2)"
      ]
     },
     "execution_count": 224,
     "metadata": {},
     "output_type": "execute_result"
    }
   ],
   "source": [
    "## Reading Interest Rates dataset\n",
    "df_interest= pd.read_csv(r\"C:\\Users\\user\\Downloads\\FEDFUNDS.csv\")\n",
    "\n",
    "# Rename the column FEDFUNDS to Interest Rates\n",
    "df_interest.rename(columns={'FEDFUNDS': 'Interest Rates'}, inplace=True)\n",
    "\n",
    "# view the data\n",
    "print(df_interest.head())\n",
    "\n",
    "# check the number of rows and columns\n",
    "df_interest.shape"
   ]
  },
  {
   "cell_type": "code",
   "execution_count": 225,
   "metadata": {},
   "outputs": [
    {
     "name": "stdout",
     "output_type": "stream",
     "text": [
      "         DATE    CPI\n",
      "0  2002-01-01  177.7\n",
      "1  2002-02-01  178.0\n",
      "2  2002-03-01  178.5\n",
      "3  2002-04-01  179.3\n",
      "4  2002-05-01  179.5\n"
     ]
    },
    {
     "data": {
      "text/plain": [
       "(241, 2)"
      ]
     },
     "execution_count": 225,
     "metadata": {},
     "output_type": "execute_result"
    }
   ],
   "source": [
    "## Reading Consumer Price Index for All Urban Consumers: All Items in U.S. City Average dataset\n",
    "df_cpi = pd.read_csv(r\"C:\\Users\\user\\Downloads\\CPIAUCSL.csv\")\n",
    "\n",
    "# Rename the column FEDFUNDS to CPI\n",
    "df_cpi.rename(columns={'CPIAUCSL': 'CPI'}, inplace=True)\n",
    "\n",
    "# view the data\n",
    "print(df_cpi.head())\n",
    "\n",
    "# check the number of rows and columns\n",
    "df_cpi.shape"
   ]
  },
  {
   "cell_type": "code",
   "execution_count": 226,
   "metadata": {},
   "outputs": [
    {
     "name": "stdout",
     "output_type": "stream",
     "text": [
      "         DATE   Working_Pop\n",
      "0  2002-01-01  1.826620e+08\n",
      "1  2002-02-01  1.828219e+08\n",
      "2  2002-03-01  1.830757e+08\n",
      "3  2002-04-01  1.833143e+08\n",
      "4  2002-05-01  1.834672e+08\n"
     ]
    },
    {
     "data": {
      "text/plain": [
       "(241, 2)"
      ]
     },
     "execution_count": 226,
     "metadata": {},
     "output_type": "execute_result"
    }
   ],
   "source": [
    "## Reading Working Age Population: Aged 15-64: All Persons dataset\n",
    "df_workpop = pd.read_csv(r\"C:\\Users\\user\\Downloads\\LFWA64TTUSM647S.csv\") \n",
    "\n",
    "# Rename the column LFWA64TTUSM647S to Working_Pop\n",
    "df_workpop.rename(columns={'LFWA64TTUSM647S': 'Working_Pop'}, inplace=True)\n",
    "\n",
    "# view the data\n",
    "print(df_workpop.head())\n",
    "\n",
    "# check the number of rows and columns\n",
    "df_workpop.shape"
   ]
  },
  {
   "cell_type": "code",
   "execution_count": 227,
   "metadata": {},
   "outputs": [
    {
     "name": "stdout",
     "output_type": "stream",
     "text": [
      "         DATE  Housing_Subsidies\n",
      "0  2002-01-01             24.183\n",
      "1  2003-01-01             25.930\n",
      "2  2004-01-01             27.201\n",
      "3  2005-01-01             27.651\n",
      "4  2006-01-01             28.604\n"
     ]
    },
    {
     "data": {
      "text/plain": [
       "(21, 2)"
      ]
     },
     "execution_count": 227,
     "metadata": {},
     "output_type": "execute_result"
    }
   ],
   "source": [
    "## Reading  Government subsidies: Federal: Housing  dataset\n",
    "df_subsidies= pd.read_csv(r\"C:\\Users\\user\\Downloads\\L312051A027NBEA.csv\")\n",
    "\n",
    "# Rename the column L312051A027NBEA to Housing_Subsidies\n",
    "df_subsidies.rename(columns={'L312051A027NBEA': 'Housing_Subsidies'}, inplace=True)\n",
    "\n",
    "# view the data\n",
    "print(df_subsidies.head())\n",
    "\n",
    "# check the number of rows and columns\n",
    "df_subsidies.shape"
   ]
  },
  {
   "cell_type": "code",
   "execution_count": 228,
   "metadata": {},
   "outputs": [
    {
     "name": "stdout",
     "output_type": "stream",
     "text": [
      "         DATE      DPI\n",
      "0  2002-01-01  10514.7\n",
      "1  2002-02-01  10531.6\n",
      "2  2002-03-01  10539.0\n",
      "3  2002-04-01  10574.2\n",
      "4  2002-05-01  10616.5\n"
     ]
    },
    {
     "data": {
      "text/plain": [
       "(241, 2)"
      ]
     },
     "execution_count": 228,
     "metadata": {},
     "output_type": "execute_result"
    }
   ],
   "source": [
    "## Reading Real Disposable Personal Income dataset\n",
    "df_dpi = pd.read_csv(r\"C:\\Users\\user\\Downloads\\DSPIC96.csv\")\n",
    "\n",
    "# Rename the column DSPIC96 to DPI\n",
    "df_dpi.rename(columns={'DSPIC96': 'DPI'}, inplace=True)\n",
    "\n",
    "# view the data\n",
    "print(df_dpi.head())\n",
    "\n",
    "# check the number of rows and columns\n",
    "df_dpi.shape"
   ]
  },
  {
   "cell_type": "code",
   "execution_count": 229,
   "metadata": {},
   "outputs": [
    {
     "name": "stdout",
     "output_type": "stream",
     "text": [
      "         DATE    Old_Pop\n",
      "0  2002-01-01  12.287458\n",
      "1  2003-01-01  12.277934\n",
      "2  2004-01-01  12.304719\n",
      "3  2005-01-01  12.360163\n",
      "4  2006-01-01  12.422072\n"
     ]
    },
    {
     "data": {
      "text/plain": [
       "(21, 2)"
      ]
     },
     "execution_count": 229,
     "metadata": {},
     "output_type": "execute_result"
    }
   ],
   "source": [
    "## Reading old age population dataset\n",
    "df_oldpop = pd.read_csv(r\"C:\\Users\\user\\Downloads\\SPPOP65UPTOZSUSA.csv\")\n",
    "\n",
    "# Rename the column DSPIC96 to DPI\n",
    "df_oldpop.rename(columns={'SPPOP65UPTOZSUSA': 'Old_Pop'}, inplace=True)\n",
    "\n",
    "# view the data\n",
    "print(df_oldpop.head())\n",
    "\n",
    "# check the number of rows and columns\n",
    "df_oldpop.shape"
   ]
  },
  {
   "cell_type": "code",
   "execution_count": 230,
   "metadata": {},
   "outputs": [
    {
     "name": "stdout",
     "output_type": "stream",
     "text": [
      "         DATE  House Supply\n",
      "0  2002-01-01           4.2\n",
      "1  2002-02-01           4.0\n",
      "2  2002-03-01           4.1\n",
      "3  2002-04-01           4.3\n",
      "4  2002-05-01           4.0\n"
     ]
    },
    {
     "data": {
      "text/plain": [
       "(241, 2)"
      ]
     },
     "execution_count": 230,
     "metadata": {},
     "output_type": "execute_result"
    }
   ],
   "source": [
    "## Reading  Monthly Supply of New Houses in the United States dataset\n",
    "df_supply = pd.read_csv(r\"C:\\Users\\user\\Downloads\\MSACSR.csv\")\n",
    "\n",
    "# Rename the column MSACSR to House Supply\n",
    "df_supply.rename(columns={'MSACSR': 'House Supply'}, inplace=True)\n",
    "\n",
    "# view the data\n",
    "print(df_supply.head())\n",
    "\n",
    "# check the number of rows and columns\n",
    "df_supply.shape"
   ]
  },
  {
   "cell_type": "code",
   "execution_count": 231,
   "metadata": {},
   "outputs": [
    {
     "name": "stdout",
     "output_type": "stream",
     "text": [
      "         DATE  Population\n",
      "0  2002-01-01    286739.0\n",
      "1  2002-02-01    286935.0\n",
      "2  2002-03-01    287131.0\n",
      "3  2002-04-01    287343.0\n",
      "4  2002-05-01    287571.0\n"
     ]
    },
    {
     "data": {
      "text/plain": [
       "(241, 2)"
      ]
     },
     "execution_count": 231,
     "metadata": {},
     "output_type": "execute_result"
    }
   ],
   "source": [
    "## Reading Population in the United States dataset\n",
    "df_pop = pd.read_csv(r\"C:\\Users\\user\\Downloads\\POPTHM.csv\")\n",
    "\n",
    "# Rename the column POPTHM to Population\n",
    "df_pop.rename(columns={'POPTHM': 'Population'}, inplace=True)\n",
    "\n",
    "# view the data\n",
    "print(df_pop.head())\n",
    "\n",
    "# check the number of rows and columns\n",
    "df_pop.shape"
   ]
  },
  {
   "cell_type": "code",
   "execution_count": 232,
   "metadata": {},
   "outputs": [
    {
     "name": "stdout",
     "output_type": "stream",
     "text": [
      "         DATE  Number_Households\n",
      "0  2002-01-01           109297.0\n",
      "1  2003-01-01           111278.0\n",
      "2  2004-01-01           112000.0\n",
      "3  2005-01-01           113343.0\n",
      "4  2006-01-01           114384.0\n"
     ]
    },
    {
     "data": {
      "text/plain": [
       "(21, 2)"
      ]
     },
     "execution_count": 232,
     "metadata": {},
     "output_type": "execute_result"
    }
   ],
   "source": [
    "\n",
    "## Reading Total Households in the United States dataset\n",
    "df_house = pd.read_csv(r\"C:\\Users\\user\\Downloads\\TTLHH.csv\")\n",
    "\n",
    "# Rename the column TTLHH to Number_Households\n",
    "df_house.rename(columns={'TTLHH': 'Number_Households'}, inplace=True)\n",
    "\n",
    "# view the data\n",
    "print(df_house.head())\n",
    "\n",
    "# check the number of rows and columns\n",
    "df_house.shape\n"
   ]
  },
  {
   "cell_type": "code",
   "execution_count": 233,
   "metadata": {},
   "outputs": [
    {
     "name": "stdout",
     "output_type": "stream",
     "text": [
      "Index(['DATE', 'Home Price', 'Year', 'Month'], dtype='object')\n",
      "Index(['DATE', 'Unemp Rate'], dtype='object')\n",
      "Index(['DATE', 'Emp Rate'], dtype='object')\n",
      "Index(['DATE', 'Real Gdp'], dtype='object')\n",
      "Index(['DATE', 'Working_Pop'], dtype='object')\n",
      "Index(['DATE', 'CPI'], dtype='object')\n",
      "Index(['DATE', 'DPI'], dtype='object')\n",
      "Index(['DATE', 'Interest Rates'], dtype='object')\n",
      "Index(['DATE', 'Housing_Subsidies'], dtype='object')\n",
      "Index(['DATE', 'Old_Pop'], dtype='object')\n",
      "Index(['DATE', 'House Supply'], dtype='object')\n",
      "Index(['DATE', 'Population'], dtype='object')\n",
      "Index(['DATE', 'Number_Households'], dtype='object')\n"
     ]
    }
   ],
   "source": [
    "# combining dataframes to form one dataset\n",
    "df_list = [df_homeprice, df_unemp, df_emp, df_gdp, df_workpop, df_cpi, df_dpi, df_interest, df_subsidies, df_oldpop, df_supply, df_pop, df_house]\n",
    "\n",
    "import pandas as pd\n",
    "\n",
    "# Assuming df_homeprice, df_unemp, etc. are your DataFrames\n",
    "# df_list contains all your DataFrames\n",
    "df_list = [df_homeprice, df_unemp, df_emp, df_gdp, df_workpop, df_cpi, df_dpi, df_interest, df_subsidies, df_oldpop, df_supply, df_pop, df_house]\n",
    "\n",
    "# Convert 'DATE' column to datetime format for each DataFrame\n",
    "for df in df_list:\n",
    "    if 'DATE' in df.columns:\n",
    "        df['DATE'] = pd.to_datetime(df['DATE'], errors='coerce')  # Convert to datetime, handle error\n",
    "    print(df.columns)\n",
    "\n",
    "        \n",
    "\n",
    "\n"
   ]
  },
  {
   "cell_type": "code",
   "execution_count": 234,
   "metadata": {},
   "outputs": [
    {
     "name": "stdout",
     "output_type": "stream",
     "text": [
      "(241, 11)\n"
     ]
    },
    {
     "data": {
      "text/html": [
       "<div>\n",
       "<style scoped>\n",
       "    .dataframe tbody tr th:only-of-type {\n",
       "        vertical-align: middle;\n",
       "    }\n",
       "\n",
       "    .dataframe tbody tr th {\n",
       "        vertical-align: top;\n",
       "    }\n",
       "\n",
       "    .dataframe thead th {\n",
       "        text-align: right;\n",
       "    }\n",
       "</style>\n",
       "<table border=\"1\" class=\"dataframe\">\n",
       "  <thead>\n",
       "    <tr style=\"text-align: right;\">\n",
       "      <th></th>\n",
       "      <th>Home Price</th>\n",
       "      <th>Year</th>\n",
       "      <th>Month</th>\n",
       "      <th>Unemp Rate</th>\n",
       "      <th>Emp Rate</th>\n",
       "      <th>Working_Pop</th>\n",
       "      <th>CPI</th>\n",
       "      <th>DPI</th>\n",
       "      <th>Interest Rates</th>\n",
       "      <th>House Supply</th>\n",
       "      <th>Population</th>\n",
       "    </tr>\n",
       "    <tr>\n",
       "      <th>DATE</th>\n",
       "      <th></th>\n",
       "      <th></th>\n",
       "      <th></th>\n",
       "      <th></th>\n",
       "      <th></th>\n",
       "      <th></th>\n",
       "      <th></th>\n",
       "      <th></th>\n",
       "      <th></th>\n",
       "      <th></th>\n",
       "      <th></th>\n",
       "    </tr>\n",
       "  </thead>\n",
       "  <tbody>\n",
       "    <tr>\n",
       "      <th>2002-01-01</th>\n",
       "      <td>117.144</td>\n",
       "      <td>2002</td>\n",
       "      <td>1</td>\n",
       "      <td>5.7</td>\n",
       "      <td>72.032165</td>\n",
       "      <td>1.826620e+08</td>\n",
       "      <td>177.7</td>\n",
       "      <td>10514.7</td>\n",
       "      <td>1.73</td>\n",
       "      <td>4.2</td>\n",
       "      <td>286739.0</td>\n",
       "    </tr>\n",
       "    <tr>\n",
       "      <th>2002-02-01</th>\n",
       "      <td>117.844</td>\n",
       "      <td>2002</td>\n",
       "      <td>2</td>\n",
       "      <td>5.7</td>\n",
       "      <td>72.338607</td>\n",
       "      <td>1.828219e+08</td>\n",
       "      <td>178.0</td>\n",
       "      <td>10531.6</td>\n",
       "      <td>1.74</td>\n",
       "      <td>4.0</td>\n",
       "      <td>286935.0</td>\n",
       "    </tr>\n",
       "    <tr>\n",
       "      <th>2002-03-01</th>\n",
       "      <td>118.687</td>\n",
       "      <td>2002</td>\n",
       "      <td>3</td>\n",
       "      <td>5.7</td>\n",
       "      <td>72.156168</td>\n",
       "      <td>1.830757e+08</td>\n",
       "      <td>178.5</td>\n",
       "      <td>10539.0</td>\n",
       "      <td>1.73</td>\n",
       "      <td>4.1</td>\n",
       "      <td>287131.0</td>\n",
       "    </tr>\n",
       "    <tr>\n",
       "      <th>2002-04-01</th>\n",
       "      <td>119.610</td>\n",
       "      <td>2002</td>\n",
       "      <td>4</td>\n",
       "      <td>5.9</td>\n",
       "      <td>71.903152</td>\n",
       "      <td>1.833143e+08</td>\n",
       "      <td>179.3</td>\n",
       "      <td>10574.2</td>\n",
       "      <td>1.75</td>\n",
       "      <td>4.3</td>\n",
       "      <td>287343.0</td>\n",
       "    </tr>\n",
       "    <tr>\n",
       "      <th>2002-05-01</th>\n",
       "      <td>120.724</td>\n",
       "      <td>2002</td>\n",
       "      <td>5</td>\n",
       "      <td>5.8</td>\n",
       "      <td>72.019947</td>\n",
       "      <td>1.834672e+08</td>\n",
       "      <td>179.5</td>\n",
       "      <td>10616.5</td>\n",
       "      <td>1.75</td>\n",
       "      <td>4.0</td>\n",
       "      <td>287571.0</td>\n",
       "    </tr>\n",
       "  </tbody>\n",
       "</table>\n",
       "</div>"
      ],
      "text/plain": [
       "            Home Price  Year  Month  Unemp Rate   Emp Rate   Working_Pop  \\\n",
       "DATE                                                                       \n",
       "2002-01-01     117.144  2002      1         5.7  72.032165  1.826620e+08   \n",
       "2002-02-01     117.844  2002      2         5.7  72.338607  1.828219e+08   \n",
       "2002-03-01     118.687  2002      3         5.7  72.156168  1.830757e+08   \n",
       "2002-04-01     119.610  2002      4         5.9  71.903152  1.833143e+08   \n",
       "2002-05-01     120.724  2002      5         5.8  72.019947  1.834672e+08   \n",
       "\n",
       "              CPI      DPI  Interest Rates  House Supply  Population  \n",
       "DATE                                                                  \n",
       "2002-01-01  177.7  10514.7            1.73           4.2    286739.0  \n",
       "2002-02-01  178.0  10531.6            1.74           4.0    286935.0  \n",
       "2002-03-01  178.5  10539.0            1.73           4.1    287131.0  \n",
       "2002-04-01  179.3  10574.2            1.75           4.3    287343.0  \n",
       "2002-05-01  179.5  10616.5            1.75           4.0    287571.0  "
      ]
     },
     "execution_count": 234,
     "metadata": {},
     "output_type": "execute_result"
    }
   ],
   "source": [
    "# Concating dataframes having monthly data to create one dataframe\n",
    "data= pd.DataFrame()\n",
    "df_bymonth = [df_homeprice, df_unemp, df_emp, df_workpop, df_cpi, df_dpi, df_interest, df_supply, df_pop]\n",
    "\n",
    "for df in df_bymonth:\n",
    "    df[\"DATE\"] = pd.to_datetime(df[\"DATE\"])\n",
    "    df = df.set_index(\"DATE\")\n",
    "    data = pd.concat([data,df], axis = 1)\n",
    "print(data.shape)\n",
    "data.head()"
   ]
  },
  {
   "cell_type": "code",
   "execution_count": 235,
   "metadata": {},
   "outputs": [
    {
     "name": "stdout",
     "output_type": "stream",
     "text": [
      "            Home Price  Year  Month  Unemp Rate   Emp Rate   Working_Pop  \\\n",
      "DATE                                                                       \n",
      "2002-01-01     117.144  2002      1         5.7  72.032165  1.826620e+08   \n",
      "2002-02-01     117.844  2002      2         5.7  72.338607  1.828219e+08   \n",
      "2002-03-01     118.687  2002      3         5.7  72.156168  1.830757e+08   \n",
      "2002-04-01     119.610  2002      4         5.9  71.903152  1.833143e+08   \n",
      "2002-05-01     120.724  2002      5         5.8  72.019947  1.834672e+08   \n",
      "\n",
      "              CPI      DPI  Interest Rates  House Supply  Population  \\\n",
      "DATE                                                                   \n",
      "2002-01-01  177.7  10514.7            1.73           4.2    286739.0   \n",
      "2002-02-01  178.0  10531.6            1.74           4.0    286935.0   \n",
      "2002-03-01  178.5  10539.0            1.73           4.1    287131.0   \n",
      "2002-04-01  179.3  10574.2            1.75           4.3    287343.0   \n",
      "2002-05-01  179.5  10616.5            1.75           4.0    287571.0   \n",
      "\n",
      "            Real Gdp  Number_Households  Housing_Subsidies    Old_Pop  \n",
      "DATE                                                                   \n",
      "2002-01-01  50260.25           109297.0             24.183  12.287458  \n",
      "2002-02-01  50260.25           109297.0             24.183  12.287458  \n",
      "2002-03-01  50260.25           109297.0             24.183  12.287458  \n",
      "2002-04-01  50260.25           109297.0             24.183  12.287458  \n",
      "2002-05-01  50260.25           109297.0             24.183  12.287458  \n"
     ]
    }
   ],
   "source": [
    "# Merging dataframes with annual data\n",
    "df_annual = [df_gdp, df_house,df_subsidies, df_oldpop]\n",
    "for df in df_annual:\n",
    "    if \"Year\" not in df.columns:\n",
    "        df[\"Year\"] = pd.DatetimeIndex(df[\"DATE\"]).year\n",
    "        df.set_index(\"DATE\", inplace = True)\n",
    "        data= pd.merge(data, df, how = \"left\", on = \"Year\")\n",
    "    else:\n",
    "        df.set_index(\"DATE\", inplace = True)\n",
    "        df = pd.merge(data, df, how = \"left\", on = \"Year\")\n",
    "data[\"DATE\"] = df_homeprice[\"DATE\"]\n",
    "data.set_index(\"DATE\", inplace = True)\n",
    "print(data.head())\n"
   ]
  },
  {
   "cell_type": "code",
   "execution_count": 236,
   "metadata": {},
   "outputs": [],
   "source": [
    "# export the prepared data to a CSV file\n",
    "data.to_csv(\"US_dataset.csv\")"
   ]
  }
 ],
 "metadata": {
  "kernelspec": {
   "display_name": "Python 3",
   "language": "python",
   "name": "python3"
  },
  "language_info": {
   "codemirror_mode": {
    "name": "ipython",
    "version": 3
   },
   "file_extension": ".py",
   "mimetype": "text/x-python",
   "name": "python",
   "nbconvert_exporter": "python",
   "pygments_lexer": "ipython3",
   "version": "3.12.2"
  }
 },
 "nbformat": 4,
 "nbformat_minor": 2
}
